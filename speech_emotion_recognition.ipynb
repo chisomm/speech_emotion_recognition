{
  "nbformat": 4,
  "nbformat_minor": 0,
  "metadata": {
    "colab": {
      "provenance": [],
      "collapsed_sections": [],
      "authorship_tag": "ABX9TyMSEUdw1CZ89LTrzKTn9WNw"
    },
    "kernelspec": {
      "name": "python3",
      "display_name": "Python 3"
    },
    "language_info": {
      "name": "python"
    }
  },
  "cells": [
    {
      "cell_type": "code",
      "metadata": {
        "colab": {
          "base_uri": "https://localhost:8080/"
        },
        "id": "o2TtXPwL9DAB",
        "outputId": "7118739f-b76c-4886-846e-534e45174750"
      },
      "source": [
        "CODE TUTORIAL FROM https://data-flair.training/\n",
        "from google.colab import drive\n",
        "drive.mount('/content/gdrive')\n",
        "\n",
        "import os\n",
        "\n",
        "print(os.listdir())"
      ],
      "execution_count": null,
      "outputs": [
        {
          "output_type": "stream",
          "name": "stdout",
          "text": [
            "Mounted at /content/gdrive\n",
            "['.config', 'gdrive', 'sample_data']\n"
          ]
        }
      ]
    },
    {
      "cell_type": "code",
      "execution_count": null,
      "metadata": {
        "id": "Qreg4wFNjyh6"
      },
      "outputs": [],
      "source": [
        "!pip install tensorflow keras sklearn matplotlib pandas\n"
      ]
    },
    {
      "cell_type": "code",
      "source": [
        "from PIL import Image"
      ],
      "metadata": {
        "id": "dV3IWRqd8ZVV"
      },
      "execution_count": null,
      "outputs": []
    },
    {
      "cell_type": "code",
      "source": [
        "!apt install libasound2-dev portaudio19-dev libportaudio2 libportaudiocpp0 ffmpeg"
      ],
      "metadata": {
        "id": "Vld-LnUi9mVV"
      },
      "execution_count": null,
      "outputs": []
    },
    {
      "cell_type": "code",
      "source": [
        "!pip install PyAudio"
      ],
      "metadata": {
        "id": "JiuaRQMs9wta"
      },
      "execution_count": null,
      "outputs": []
    },
    {
      "cell_type": "code",
      "source": [
        "import librosa\n",
        "import soundfile\n",
        "import os, glob, pickle\n",
        "import numpy as np\n",
        "from sklearn.model_selection import train_test_split\n",
        "from sklearn.neural_network import MLPClassifier\n",
        "from sklearn.metrics import accuracy_score"
      ],
      "metadata": {
        "id": "CmYvwk6EMpyG"
      },
      "execution_count": null,
      "outputs": []
    },
    {
      "cell_type": "code",
      "source": [
        "#extract features function\n",
        "\n",
        "def extract_feature(file_name, mfcc, chroma, mel): # function to extract certain features from a soundfile\n",
        "  with soundfile.SoundFile(file_name) as sound_file: # from file_name open sound file that automatically closes once done(with-as)\n",
        "    X = sound_file.read(dtype='float32') # read from sound_file then call it X\n",
        "    sample_rate = sound_file.samplerate # get sound rate\n",
        "    if chroma:\n",
        "      stft = np.abs(librosa.stft(X)) # if chroma is true get stft of X\n",
        "    result = np.array([])\n",
        "    # for each of 3 features check if exists, \n",
        "    #if feature exists then call corresponding function from librose.feature\n",
        "    #get mean value\n",
        "    #call hstack with result and feature value and store in result array -> result horizontally stacked\n",
        "    if mfcc:\n",
        "      mfccs = np.mean(librosa.feature.mfcc(y=X, sr=sample_rate, n_mfcc=40).T, axis=0) \n",
        "      result = np.hstack((result, mfccs))\n",
        "    if chroma:\n",
        "      chroma = np.mean(librosa.feature.chroma_stft(S=stft, sr=sample_rate).T, axis=0)\n",
        "      result = np.hstack((result, chroma))\n",
        "    if mel:\n",
        "      mel = np.mean(librosa.feature.melspectogram(X, sr=sample_rate).T, axis=0)\n",
        "      result = np.hstack((result, mel))\n",
        "  return result"
      ],
      "metadata": {
        "id": "kmzGTbXXOzCg"
      },
      "execution_count": null,
      "outputs": []
    },
    {
      "cell_type": "code",
      "source": [
        "#dictionary mapping numbers in str format to emotions in str format in RAVDESS dataset \n",
        "\n",
        "emotions = {\n",
        "    '01':'neutral',\n",
        "    '02':'calm',\n",
        "    '03':'happy'\n",
        "    '04':'sad'\n",
        "    '05':'angry'\n",
        "    '06':'fearful'\n",
        "    '07':'disgust'\n",
        "    '08':'surprised'\n",
        "}\n",
        "\n",
        "#list of emations we are observing\n",
        "\n",
        "observed_emotions = ['calm', 'happy', 'fearful', 'disgust']"
      ],
      "metadata": {
        "id": "L684LRteZVdu"
      },
      "execution_count": null,
      "outputs": []
    },
    {
      "cell_type": "code",
      "source": [
        "def load_data(test_size=0.2): #function takes in relative size of test set as parameter\n",
        "  x,y = [], [] # initialise empty lists\n",
        "\n",
        "  #get all pathnames for soundfiles in dataset \n",
        "  #(using glob.glob the glob function from glog module)\n",
        "  for file in glob.glob(\"D:\\\\DataFlair\\\\ravdess data\\\\Actor_*\\\\*.wav\"): \n",
        "    file_name = os.path.basename(file) # for each file get basename of file\n",
        "    \n",
        "    # get emotion number (split name around '-' and extract 3rd value) \n",
        "    #then map to emotion word using emotions dict\n",
        "    emotion = emotions[file_name.split('-')[2]] \n",
        "    \n",
        "    if emotion not in observed_emotions: # check if emotion in observed_emotions list\n",
        "      continue #if not  continue to next file\n",
        "    feature = extract_feature(file, mfcc=True, chroma=True, mel=True) #extracts feature and stores it\n",
        "    x.append(feature) # list x holds features\n",
        "    y.append(emotion) # list y holds emotion label\n",
        "  return train_test_split(np.array(x), y, test_size=test_size, random_state=9) # call function to split data prepared\n",
        "  \n",
        "  "
      ],
      "metadata": {
        "id": "10Mg5O4Qot9i"
      },
      "execution_count": null,
      "outputs": []
    },
    {
      "cell_type": "code",
      "source": [
        "x_train,x_test,y_train,y_test = load_data(test_size=0.25) # split dataset into training ad testing sets 25% of dataset is test set"
      ],
      "metadata": {
        "id": "InaxTl77xN0j"
      },
      "execution_count": null,
      "outputs": []
    },
    {
      "cell_type": "code",
      "source": [
        "print((x_train.shape[0], x_test.shape[0])) # get shape of training and testing datasets"
      ],
      "metadata": {
        "id": "Ma63GfPn0JSb"
      },
      "execution_count": null,
      "outputs": []
    },
    {
      "cell_type": "code",
      "source": [
        "print(f'Features extracted: {x_train.shape[1]}') # number of features (num cols)"
      ],
      "metadata": {
        "id": "4rgVlf20RIz3"
      },
      "execution_count": null,
      "outputs": []
    }
  ]
}